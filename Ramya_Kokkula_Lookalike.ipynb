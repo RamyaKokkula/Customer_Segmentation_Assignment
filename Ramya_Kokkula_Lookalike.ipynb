{
  "metadata": {
    "kernelspec": {
      "name": "python",
      "display_name": "Python (Pyodide)",
      "language": "python"
    },
    "language_info": {
      "codemirror_mode": {
        "name": "python",
        "version": 3
      },
      "file_extension": ".py",
      "mimetype": "text/x-python",
      "name": "python",
      "nbconvert_exporter": "python",
      "pygments_lexer": "ipython3",
      "version": "3.8"
    }
  },
  "nbformat_minor": 5,
  "nbformat": 4,
  "cells": [
    {
      "id": "a5f7457a-43ab-41ef-912b-deb23f490820",
      "cell_type": "code",
      "source": "import pandas as pd\nimport numpy as np\nfrom sklearn.cluster import KMeans\nfrom sklearn.preprocessing import StandardScaler\nfrom sklearn.metrics import davies_bouldin_score\nimport matplotlib.pyplot as plt\nimport seaborn as sns",
      "metadata": {
        "trusted": true
      },
      "outputs": [],
      "execution_count": 3
    },
    {
      "id": "a0bbc79c-026c-4fe5-91f7-d5564f3b4dc1",
      "cell_type": "code",
      "source": "customers = pd.read_csv('Customers.csv')\nproducts = pd.read_csv('Products.csv')\ntransactions = pd.read_csv('Transactions.csv')",
      "metadata": {
        "trusted": true
      },
      "outputs": [],
      "execution_count": 4
    },
    {
      "id": "7c798217-6b71-41a2-bf9d-3e144f3937ce",
      "cell_type": "code",
      "source": "customers['SignupDate'] = pd.to_datetime(customers['SignupDate'])\ntransactions['TransactionDate'] = pd.to_datetime(transactions['TransactionDate'])",
      "metadata": {
        "trusted": true
      },
      "outputs": [],
      "execution_count": 5
    },
    {
      "id": "bb63fd89-b818-47ea-8b38-9ff07b6d3885",
      "cell_type": "code",
      "source": "merged_data = transactions.merge(customers, on='CustomerID')\nmerged_data = merged_data.merge(products, on='ProductID')\nmerged_data.rename(columns={'Price_x': 'Transaction_Price', 'Price_y': 'Product_Price'}, inplace=True)\nmerged_data.drop(columns=['Product_Price'], inplace=True)\nmerged_data.rename(columns={'Transaction_Price': 'Price'}, inplace=True)\nprint(merged_data[['Price', 'Quantity', 'TotalValue']].describe())",
      "metadata": {
        "trusted": true
      },
      "outputs": [
        {
          "name": "stdout",
          "output_type": "stream",
          "text": "            Price     Quantity   TotalValue\ncount  1000.00000  1000.000000  1000.000000\nmean    272.55407     2.537000   689.995560\nstd     140.73639     1.117981   493.144478\nmin      16.08000     1.000000    16.080000\n25%     147.95000     2.000000   295.295000\n50%     299.93000     3.000000   588.880000\n75%     404.40000     4.000000  1011.660000\nmax     497.76000     4.000000  1991.040000\n"
        }
      ],
      "execution_count": 6
    },
    {
      "id": "04c5a65f-3b02-4726-8774-06d517b11db5",
      "cell_type": "code",
      "source": "customer_product_matrix = merged_data.pivot_table(\n    index='CustomerID', \n    columns='ProductID', \n    values='Quantity', \n    aggfunc='sum', \n    fill_value=0\n)\n\nscaler = StandardScaler()\nnormalized_matrix = scaler.fit_transform(customer_product_matrix)\n\nsimilarity_matrix = cosine_similarity(normalized_matrix)\nsimilarity_df = pd.DataFrame(similarity_matrix, \n                             index=customer_product_matrix.index, \n                             columns=customer_product_matrix.index)\n\n# Function to get top 3 similar customers for a given customer\ndef get_top_3_similar(customers_similarity, customer_id):\n    similar_customers = customers_similarity[customer_id].sort_values(ascending=False).iloc[1:4]\n    return [(cust, round(score, 2)) for cust, score in similar_customers.items()]\n\n# Generate Lookalike recommendations for the first 20 customers\nlookalike_map = {}\nfor customer_id in customers['CustomerID'][:20]:\n    lookalike_map[customer_id] = get_top_3_similar(similarity_df, customer_id)\n\n# Save the Lookalike map to a CSV file\nlookalike_output = []\nfor cust_id, similar_customers in lookalike_map.items():\n    for similar_cust_id, score in similar_customers:\n        lookalike_output.append({'cust_id': cust_id, 'similar_cust_id': similar_cust_id, 'score': score})\n\nlookalike_df = pd.DataFrame(lookalike_output)\nlookalike_df.to_csv('Lookalike.csv', index=False)\n\nprint(lookalike_df.head())",
      "metadata": {
        "trusted": true
      },
      "outputs": [],
      "execution_count": null
    }
  ]
}